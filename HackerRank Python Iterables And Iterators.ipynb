{
 "cells": [
  {
   "cell_type": "markdown",
   "metadata": {},
   "source": [
    "# HackerRank Python Iterables And Iterators"
   ]
  },
  {
   "cell_type": "markdown",
   "metadata": {},
   "source": [
    "- The itertools module standardizes a core set of fast, memory efficient tools that are useful by themselves or in combination. Together, they form an iterator algebra making it possible to construct specialized tools succinctly and efficiently in pure Python.\n",
    "- To read more about the functions in this module, check out their documentation here. https://docs.python.org/2/library/itertools.html\n",
    "- You are given a list of N lowercase English letters. For a given integer K, you can select any K indices (assume 1-based indexing) with a uniform probability from the list.\n",
    "- Find the probability that at least one of the K indices selected will contain the letter: 'a'.\n",
    "\n",
    "Input Format:\n",
    "- The input consists of three lines. The first line contains the integer N, denoting the length of the list. The next line consists of N space-separated lowercase English letters, denoting the elements of the list.\n",
    "- The third and the last line of input contains the integer K, denoting the number of indices to be selected.\n",
    "\n",
    "Output Format:\n",
    "- Output a single line consisting of the probability that at least one of the K indices selected contains the letter:'a'.\n",
    "- Note: The answer must be correct up to 3 decimal places.\n",
    "\n",
    "Constraints:\n",
    "- 1<=N<=10\n",
    "- 1<=K<=N\n",
    "- All the letters in the list are lowercase English letters.\n",
    "\n",
    "Sample Input:\n",
    "- 4 \n",
    "- a a c d\n",
    "- 2\n",
    "\n",
    "Sample Output:\n",
    "- 0.8333\n",
    "\n",
    "Explanation:\n",
    "- All possible unordered tuples of length 2 comprising of indices from 1 to 4 are: (1,2),(1,3)(1,4),(2,3),(2,4),(3,4)\n",
    "- Out of these 6 combinations, 5 of them contain either index 1 or index 2 which are the indices that contain the letter 'a'.\n",
    "- Hence, the answer is 5/6."
   ]
  },
  {
   "cell_type": "code",
   "execution_count": 5,
   "metadata": {},
   "outputs": [
    {
     "name": "stdout",
     "output_type": "stream",
     "text": [
      "4\n",
      "a a c d\n",
      "2\n",
      "0.833\n"
     ]
    }
   ],
   "source": [
    "# SOLUTION:\n",
    "\n",
    "# order does not matter for this problem...so we want COMBINATIONS.\n",
    "from itertools import combinations\n",
    "\n",
    "# define 3 variables for input.\n",
    "\n",
    "# N = number of elements in the list.\n",
    "N = int(input())\n",
    "\n",
    "# L = the letters in the list (split on spaces)\n",
    "L = input().split()\n",
    "\n",
    "# K = the number of indices selected.\n",
    "K = int(input())\n",
    "\n",
    "# list of all combinations of the letters in the list L with K indices.\n",
    "C = list(combinations(L, K))\n",
    "\n",
    "# create a filtered list of the letters we are interested in ('a')\n",
    "# within the list C\n",
    "F = filter(lambda c: 'a' in c, C)\n",
    "\n",
    "# probability of \"a\" is: \n",
    "# length of  filtered list F / legnth of list C.\n",
    "# print up to 3 correct decimal places.\n",
    "print(\"{0:.3}\".format(len(list(F))/len(C)))"
   ]
  }
 ],
 "metadata": {
  "kernelspec": {
   "display_name": "Python 3",
   "language": "python",
   "name": "python3"
  },
  "language_info": {
   "codemirror_mode": {
    "name": "ipython",
    "version": 3
   },
   "file_extension": ".py",
   "mimetype": "text/x-python",
   "name": "python",
   "nbconvert_exporter": "python",
   "pygments_lexer": "ipython3",
   "version": "3.7.4"
  },
  "toc": {
   "base_numbering": 1,
   "nav_menu": {},
   "number_sections": true,
   "sideBar": true,
   "skip_h1_title": true,
   "title_cell": "Table of Contents",
   "title_sidebar": "Contents",
   "toc_cell": false,
   "toc_position": {
    "height": "calc(100% - 180px)",
    "left": "10px",
    "top": "150px",
    "width": "165px"
   },
   "toc_section_display": true,
   "toc_window_display": false
  }
 },
 "nbformat": 4,
 "nbformat_minor": 2
}
