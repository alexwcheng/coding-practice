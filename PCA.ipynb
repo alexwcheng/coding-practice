{
 "cells": [
  {
   "cell_type": "markdown",
   "metadata": {},
   "source": [
    "# PCA Warmup"
   ]
  },
  {
   "cell_type": "markdown",
   "metadata": {},
   "source": [
    "You are going to perform principal component analysis (PCA) on the auto dataset (from the last couple weeks of warmups). Make a vanilla instance of PCA and fit the features. Now, use the method explained_variance_ratio_ in conjunction with numpy’s cumulative sum function and plot the outcome.\n",
    "(If you are unsure how to do this, practice your Googling skills. You have enough keywords to get you there.)\n",
    "Once you have the plot, how many principal components could we use to safely approximate our data? Discuss with a small group as to why that is the case? Were all the assumptions of PCA met?"
   ]
  },
  {
   "cell_type": "code",
   "execution_count": 75,
   "metadata": {},
   "outputs": [],
   "source": [
    "#import libraries:\n",
    "%matplotlib inline\n",
    "import numpy as np\n",
    "import matplotlib.pyplot as plt\n",
    "import seaborn as sns; sns.set()\n",
    "import pandas as pd\n",
    "import statsmodels.api as sm\n",
    "import scipy.stats as stats\n",
    "from sklearn.preprocessing import StandardScaler\n",
    "from sklearn.decomposition import PCA"
   ]
  },
  {
   "cell_type": "code",
   "execution_count": 76,
   "metadata": {},
   "outputs": [],
   "source": [
    "pd.set_option('display.max_rows', 1000)\n",
    "pd.set_option('display.max_columns', 1000)\n",
    "pd.set_option('display.width', 1000)"
   ]
  },
  {
   "cell_type": "code",
   "execution_count": 77,
   "metadata": {},
   "outputs": [],
   "source": [
    "#load df:\n",
    "df = pd.read_csv('https://archive.ics.uci.edu/ml/machine-learning-databases/auto-mpg/auto-mpg.data', sep = '\\s+',\n",
    "                 names = ['mpg', 'cylinders', 'displacement', 'horsepower', 'weight', 'acceleration', \n",
    "                     'model_year', 'origin', 'car_name'])"
   ]
  },
  {
   "cell_type": "code",
   "execution_count": 78,
   "metadata": {
    "scrolled": false
   },
   "outputs": [
    {
     "data": {
      "text/html": [
       "<div>\n",
       "<style scoped>\n",
       "    .dataframe tbody tr th:only-of-type {\n",
       "        vertical-align: middle;\n",
       "    }\n",
       "\n",
       "    .dataframe tbody tr th {\n",
       "        vertical-align: top;\n",
       "    }\n",
       "\n",
       "    .dataframe thead th {\n",
       "        text-align: right;\n",
       "    }\n",
       "</style>\n",
       "<table border=\"1\" class=\"dataframe\">\n",
       "  <thead>\n",
       "    <tr style=\"text-align: right;\">\n",
       "      <th></th>\n",
       "      <th>mpg</th>\n",
       "      <th>cylinders</th>\n",
       "      <th>displacement</th>\n",
       "      <th>horsepower</th>\n",
       "      <th>weight</th>\n",
       "      <th>acceleration</th>\n",
       "      <th>model_year</th>\n",
       "      <th>origin</th>\n",
       "    </tr>\n",
       "  </thead>\n",
       "  <tbody>\n",
       "    <tr>\n",
       "      <td>0</td>\n",
       "      <td>18.0</td>\n",
       "      <td>8</td>\n",
       "      <td>307.0</td>\n",
       "      <td>130.0</td>\n",
       "      <td>3504.0</td>\n",
       "      <td>12.0</td>\n",
       "      <td>70</td>\n",
       "      <td>1</td>\n",
       "    </tr>\n",
       "    <tr>\n",
       "      <td>1</td>\n",
       "      <td>15.0</td>\n",
       "      <td>8</td>\n",
       "      <td>350.0</td>\n",
       "      <td>165.0</td>\n",
       "      <td>3693.0</td>\n",
       "      <td>11.5</td>\n",
       "      <td>70</td>\n",
       "      <td>1</td>\n",
       "    </tr>\n",
       "    <tr>\n",
       "      <td>2</td>\n",
       "      <td>18.0</td>\n",
       "      <td>8</td>\n",
       "      <td>318.0</td>\n",
       "      <td>150.0</td>\n",
       "      <td>3436.0</td>\n",
       "      <td>11.0</td>\n",
       "      <td>70</td>\n",
       "      <td>1</td>\n",
       "    </tr>\n",
       "    <tr>\n",
       "      <td>3</td>\n",
       "      <td>16.0</td>\n",
       "      <td>8</td>\n",
       "      <td>304.0</td>\n",
       "      <td>150.0</td>\n",
       "      <td>3433.0</td>\n",
       "      <td>12.0</td>\n",
       "      <td>70</td>\n",
       "      <td>1</td>\n",
       "    </tr>\n",
       "    <tr>\n",
       "      <td>4</td>\n",
       "      <td>17.0</td>\n",
       "      <td>8</td>\n",
       "      <td>302.0</td>\n",
       "      <td>140.0</td>\n",
       "      <td>3449.0</td>\n",
       "      <td>10.5</td>\n",
       "      <td>70</td>\n",
       "      <td>1</td>\n",
       "    </tr>\n",
       "  </tbody>\n",
       "</table>\n",
       "</div>"
      ],
      "text/plain": [
       "    mpg  cylinders  displacement horsepower  weight  acceleration  model_year  origin\n",
       "0  18.0          8         307.0      130.0  3504.0          12.0          70       1\n",
       "1  15.0          8         350.0      165.0  3693.0          11.5          70       1\n",
       "2  18.0          8         318.0      150.0  3436.0          11.0          70       1\n",
       "3  16.0          8         304.0      150.0  3433.0          12.0          70       1\n",
       "4  17.0          8         302.0      140.0  3449.0          10.5          70       1"
      ]
     },
     "execution_count": 78,
     "metadata": {},
     "output_type": "execute_result"
    }
   ],
   "source": [
    "X = df.drop('car_name', axis=1)\n",
    "X.head()"
   ]
  },
  {
   "cell_type": "code",
   "execution_count": 79,
   "metadata": {
    "scrolled": true
   },
   "outputs": [
    {
     "data": {
      "text/plain": [
       "150.0    22\n",
       "90.00    20\n",
       "88.00    19\n",
       "110.0    18\n",
       "100.0    17\n",
       "75.00    14\n",
       "95.00    14\n",
       "105.0    12\n",
       "67.00    12\n",
       "70.00    12\n",
       "65.00    10\n",
       "97.00     9\n",
       "85.00     9\n",
       "145.0     7\n",
       "80.00     7\n",
       "140.0     7\n",
       "?         6\n",
       "78.00     6\n",
       "72.00     6\n",
       "68.00     6\n",
       "84.00     6\n",
       "92.00     6\n",
       "175.0     5\n",
       "115.0     5\n",
       "60.00     5\n",
       "86.00     5\n",
       "180.0     5\n",
       "170.0     5\n",
       "71.00     5\n",
       "130.0     5\n",
       "165.0     4\n",
       "83.00     4\n",
       "52.00     4\n",
       "120.0     4\n",
       "76.00     4\n",
       "96.00     3\n",
       "48.00     3\n",
       "112.0     3\n",
       "225.0     3\n",
       "74.00     3\n",
       "69.00     3\n",
       "190.0     3\n",
       "125.0     3\n",
       "215.0     3\n",
       "63.00     3\n",
       "53.00     2\n",
       "58.00     2\n",
       "129.0     2\n",
       "46.00     2\n",
       "155.0     2\n",
       "62.00     2\n",
       "160.0     2\n",
       "98.00     2\n",
       "79.00     2\n",
       "153.0     2\n",
       "198.0     2\n",
       "139.0     2\n",
       "81.00     2\n",
       "87.00     2\n",
       "61.00     1\n",
       "208.0     1\n",
       "133.0     1\n",
       "89.00     1\n",
       "135.0     1\n",
       "108.0     1\n",
       "77.00     1\n",
       "49.00     1\n",
       "93.00     1\n",
       "220.0     1\n",
       "116.0     1\n",
       "103.0     1\n",
       "149.0     1\n",
       "210.0     1\n",
       "193.0     1\n",
       "158.0     1\n",
       "91.00     1\n",
       "82.00     1\n",
       "94.00     1\n",
       "230.0     1\n",
       "138.0     1\n",
       "64.00     1\n",
       "54.00     1\n",
       "200.0     1\n",
       "142.0     1\n",
       "122.0     1\n",
       "132.0     1\n",
       "66.00     1\n",
       "107.0     1\n",
       "167.0     1\n",
       "137.0     1\n",
       "152.0     1\n",
       "113.0     1\n",
       "148.0     1\n",
       "102.0     1\n",
       "Name: horsepower, dtype: int64"
      ]
     },
     "execution_count": 79,
     "metadata": {},
     "output_type": "execute_result"
    }
   ],
   "source": [
    "#there are ? marks in the data\n",
    "X['horsepower'].value_counts()"
   ]
  },
  {
   "cell_type": "code",
   "execution_count": 80,
   "metadata": {},
   "outputs": [],
   "source": [
    "X.loc[X.horsepower == '?', 'horsepower'] = \"0\""
   ]
  },
  {
   "cell_type": "code",
   "execution_count": 81,
   "metadata": {
    "scrolled": true
   },
   "outputs": [
    {
     "data": {
      "text/plain": [
       "150.0    22\n",
       "90.00    20\n",
       "88.00    19\n",
       "110.0    18\n",
       "100.0    17\n",
       "75.00    14\n",
       "95.00    14\n",
       "105.0    12\n",
       "67.00    12\n",
       "70.00    12\n",
       "65.00    10\n",
       "97.00     9\n",
       "85.00     9\n",
       "145.0     7\n",
       "80.00     7\n",
       "140.0     7\n",
       "0         6\n",
       "78.00     6\n",
       "72.00     6\n",
       "68.00     6\n",
       "84.00     6\n",
       "92.00     6\n",
       "175.0     5\n",
       "115.0     5\n",
       "60.00     5\n",
       "86.00     5\n",
       "180.0     5\n",
       "170.0     5\n",
       "71.00     5\n",
       "130.0     5\n",
       "165.0     4\n",
       "83.00     4\n",
       "52.00     4\n",
       "120.0     4\n",
       "76.00     4\n",
       "96.00     3\n",
       "48.00     3\n",
       "112.0     3\n",
       "225.0     3\n",
       "74.00     3\n",
       "69.00     3\n",
       "190.0     3\n",
       "125.0     3\n",
       "63.00     3\n",
       "215.0     3\n",
       "53.00     2\n",
       "58.00     2\n",
       "87.00     2\n",
       "79.00     2\n",
       "129.0     2\n",
       "46.00     2\n",
       "155.0     2\n",
       "62.00     2\n",
       "160.0     2\n",
       "153.0     2\n",
       "98.00     2\n",
       "198.0     2\n",
       "139.0     2\n",
       "81.00     2\n",
       "135.0     1\n",
       "133.0     1\n",
       "108.0     1\n",
       "89.00     1\n",
       "208.0     1\n",
       "49.00     1\n",
       "220.0     1\n",
       "193.0     1\n",
       "77.00     1\n",
       "103.0     1\n",
       "93.00     1\n",
       "61.00     1\n",
       "116.0     1\n",
       "149.0     1\n",
       "210.0     1\n",
       "122.0     1\n",
       "148.0     1\n",
       "91.00     1\n",
       "94.00     1\n",
       "230.0     1\n",
       "82.00     1\n",
       "138.0     1\n",
       "64.00     1\n",
       "54.00     1\n",
       "200.0     1\n",
       "158.0     1\n",
       "142.0     1\n",
       "132.0     1\n",
       "66.00     1\n",
       "107.0     1\n",
       "167.0     1\n",
       "137.0     1\n",
       "152.0     1\n",
       "113.0     1\n",
       "102.0     1\n",
       "Name: horsepower, dtype: int64"
      ]
     },
     "execution_count": 81,
     "metadata": {},
     "output_type": "execute_result"
    }
   ],
   "source": [
    "#there are ? marks in the data\n",
    "X['horsepower'].value_counts()"
   ]
  },
  {
   "cell_type": "code",
   "execution_count": 82,
   "metadata": {},
   "outputs": [],
   "source": [
    "X['horsepower'] = X['horsepower'].astype('float64')"
   ]
  },
  {
   "cell_type": "code",
   "execution_count": 83,
   "metadata": {},
   "outputs": [
    {
     "name": "stdout",
     "output_type": "stream",
     "text": [
      "<class 'pandas.core.frame.DataFrame'>\n",
      "RangeIndex: 398 entries, 0 to 397\n",
      "Data columns (total 8 columns):\n",
      "mpg             398 non-null float64\n",
      "cylinders       398 non-null int64\n",
      "displacement    398 non-null float64\n",
      "horsepower      398 non-null float64\n",
      "weight          398 non-null float64\n",
      "acceleration    398 non-null float64\n",
      "model_year      398 non-null int64\n",
      "origin          398 non-null int64\n",
      "dtypes: float64(5), int64(3)\n",
      "memory usage: 25.0 KB\n"
     ]
    }
   ],
   "source": [
    "X.info()"
   ]
  },
  {
   "cell_type": "code",
   "execution_count": 84,
   "metadata": {},
   "outputs": [
    {
     "data": {
      "text/html": [
       "<div>\n",
       "<style scoped>\n",
       "    .dataframe tbody tr th:only-of-type {\n",
       "        vertical-align: middle;\n",
       "    }\n",
       "\n",
       "    .dataframe tbody tr th {\n",
       "        vertical-align: top;\n",
       "    }\n",
       "\n",
       "    .dataframe thead th {\n",
       "        text-align: right;\n",
       "    }\n",
       "</style>\n",
       "<table border=\"1\" class=\"dataframe\">\n",
       "  <thead>\n",
       "    <tr style=\"text-align: right;\">\n",
       "      <th></th>\n",
       "      <th>mpg</th>\n",
       "      <th>cylinders</th>\n",
       "      <th>displacement</th>\n",
       "      <th>horsepower</th>\n",
       "      <th>weight</th>\n",
       "      <th>acceleration</th>\n",
       "      <th>model_year</th>\n",
       "      <th>origin</th>\n",
       "    </tr>\n",
       "  </thead>\n",
       "  <tbody>\n",
       "    <tr>\n",
       "      <td>count</td>\n",
       "      <td>398.000000</td>\n",
       "      <td>398.000000</td>\n",
       "      <td>398.000000</td>\n",
       "      <td>398.000000</td>\n",
       "      <td>398.000000</td>\n",
       "      <td>398.000000</td>\n",
       "      <td>398.000000</td>\n",
       "      <td>398.000000</td>\n",
       "    </tr>\n",
       "    <tr>\n",
       "      <td>mean</td>\n",
       "      <td>23.514573</td>\n",
       "      <td>5.454774</td>\n",
       "      <td>193.425879</td>\n",
       "      <td>102.894472</td>\n",
       "      <td>2970.424623</td>\n",
       "      <td>15.568090</td>\n",
       "      <td>76.010050</td>\n",
       "      <td>1.572864</td>\n",
       "    </tr>\n",
       "    <tr>\n",
       "      <td>std</td>\n",
       "      <td>7.815984</td>\n",
       "      <td>1.701004</td>\n",
       "      <td>104.269838</td>\n",
       "      <td>40.269544</td>\n",
       "      <td>846.841774</td>\n",
       "      <td>2.757689</td>\n",
       "      <td>3.697627</td>\n",
       "      <td>0.802055</td>\n",
       "    </tr>\n",
       "    <tr>\n",
       "      <td>min</td>\n",
       "      <td>9.000000</td>\n",
       "      <td>3.000000</td>\n",
       "      <td>68.000000</td>\n",
       "      <td>0.000000</td>\n",
       "      <td>1613.000000</td>\n",
       "      <td>8.000000</td>\n",
       "      <td>70.000000</td>\n",
       "      <td>1.000000</td>\n",
       "    </tr>\n",
       "    <tr>\n",
       "      <td>25%</td>\n",
       "      <td>17.500000</td>\n",
       "      <td>4.000000</td>\n",
       "      <td>104.250000</td>\n",
       "      <td>75.000000</td>\n",
       "      <td>2223.750000</td>\n",
       "      <td>13.825000</td>\n",
       "      <td>73.000000</td>\n",
       "      <td>1.000000</td>\n",
       "    </tr>\n",
       "    <tr>\n",
       "      <td>50%</td>\n",
       "      <td>23.000000</td>\n",
       "      <td>4.000000</td>\n",
       "      <td>148.500000</td>\n",
       "      <td>92.000000</td>\n",
       "      <td>2803.500000</td>\n",
       "      <td>15.500000</td>\n",
       "      <td>76.000000</td>\n",
       "      <td>1.000000</td>\n",
       "    </tr>\n",
       "    <tr>\n",
       "      <td>75%</td>\n",
       "      <td>29.000000</td>\n",
       "      <td>8.000000</td>\n",
       "      <td>262.000000</td>\n",
       "      <td>125.000000</td>\n",
       "      <td>3608.000000</td>\n",
       "      <td>17.175000</td>\n",
       "      <td>79.000000</td>\n",
       "      <td>2.000000</td>\n",
       "    </tr>\n",
       "    <tr>\n",
       "      <td>max</td>\n",
       "      <td>46.600000</td>\n",
       "      <td>8.000000</td>\n",
       "      <td>455.000000</td>\n",
       "      <td>230.000000</td>\n",
       "      <td>5140.000000</td>\n",
       "      <td>24.800000</td>\n",
       "      <td>82.000000</td>\n",
       "      <td>3.000000</td>\n",
       "    </tr>\n",
       "  </tbody>\n",
       "</table>\n",
       "</div>"
      ],
      "text/plain": [
       "              mpg   cylinders  displacement  horsepower       weight  acceleration  model_year      origin\n",
       "count  398.000000  398.000000    398.000000  398.000000   398.000000    398.000000  398.000000  398.000000\n",
       "mean    23.514573    5.454774    193.425879  102.894472  2970.424623     15.568090   76.010050    1.572864\n",
       "std      7.815984    1.701004    104.269838   40.269544   846.841774      2.757689    3.697627    0.802055\n",
       "min      9.000000    3.000000     68.000000    0.000000  1613.000000      8.000000   70.000000    1.000000\n",
       "25%     17.500000    4.000000    104.250000   75.000000  2223.750000     13.825000   73.000000    1.000000\n",
       "50%     23.000000    4.000000    148.500000   92.000000  2803.500000     15.500000   76.000000    1.000000\n",
       "75%     29.000000    8.000000    262.000000  125.000000  3608.000000     17.175000   79.000000    2.000000\n",
       "max     46.600000    8.000000    455.000000  230.000000  5140.000000     24.800000   82.000000    3.000000"
      ]
     },
     "execution_count": 84,
     "metadata": {},
     "output_type": "execute_result"
    }
   ],
   "source": [
    "X.describe()"
   ]
  },
  {
   "cell_type": "code",
   "execution_count": 85,
   "metadata": {},
   "outputs": [],
   "source": [
    "#impute median value of horsepower - it's 92\n",
    "X.loc[X.horsepower == 0, 'horsepower'] = 92"
   ]
  },
  {
   "cell_type": "code",
   "execution_count": 86,
   "metadata": {},
   "outputs": [],
   "source": [
    "#scale data\n",
    "\n",
    "ss = StandardScaler()\n",
    "X = ss.fit_transform(X)"
   ]
  },
  {
   "cell_type": "code",
   "execution_count": 87,
   "metadata": {},
   "outputs": [],
   "source": [
    "#make a vanilla instance of PCA\n",
    "#fit features to PCA\n",
    "pca = PCA()\n",
    "results = pca.fit(X)"
   ]
  },
  {
   "cell_type": "code",
   "execution_count": 91,
   "metadata": {},
   "outputs": [
    {
     "name": "stdout",
     "output_type": "stream",
     "text": [
      "[[-0.38580162  0.40275434  0.41695023  0.40168736  0.40190901 -0.2645932\n",
      "  -0.2140213  -0.27640604]\n",
      " [-0.06849535 -0.13118976 -0.12301866  0.11370877 -0.21131327 -0.42758589\n",
      "  -0.67874104  0.5117245 ]\n",
      " [-0.29490097 -0.07641382 -0.07822995 -0.23415885 -0.00858471  0.62604388\n",
      "  -0.60148279 -0.30406884]\n",
      " [-0.10120155  0.21724278  0.13702467  0.1127418   0.32286595  0.50056965\n",
      "   0.10330072  0.73864329]\n",
      " [-0.73848495 -0.48794163 -0.29915428  0.07906663  0.13873246 -0.10213423\n",
      "   0.29723083  0.0527623 ]\n",
      " [ 0.38001831 -0.51789304 -0.01482805  0.68660595  0.21245796  0.21129987\n",
      "  -0.10910887 -0.11846737]\n",
      " [-0.21602731  0.29905531 -0.10057689  0.51522204 -0.72225281  0.21913538\n",
      "   0.13348335 -0.0290073 ]\n",
      " [-0.11320522 -0.41450015  0.82842885 -0.12265193 -0.32166058  0.03950294\n",
      "   0.05462756  0.07762833]]\n",
      "[5.3773614  0.9455558  0.81950778 0.48737413 0.1861679  0.11729598\n",
      " 0.05488951 0.03199864]\n",
      "[0.67048131 0.1178975  0.10218109 0.0607687  0.02321252 0.01462516\n",
      " 0.00684395 0.00398978]\n"
     ]
    }
   ],
   "source": [
    "print(results.components_)\n",
    "print(results.explained_variance_)\n",
    "print(results.explained_variance_ratio_)"
   ]
  },
  {
   "cell_type": "code",
   "execution_count": 89,
   "metadata": {},
   "outputs": [
    {
     "data": {
      "text/plain": [
       "array([0.67048131, 0.78837881, 0.8905599 , 0.9513286 , 0.97454111,\n",
       "       0.98916627, 0.99601022, 1.        ])"
      ]
     },
     "execution_count": 89,
     "metadata": {},
     "output_type": "execute_result"
    }
   ],
   "source": [
    "results.explained_variance_ratio_.cumsum()"
   ]
  },
  {
   "cell_type": "code",
   "execution_count": 90,
   "metadata": {},
   "outputs": [
    {
     "data": {
      "image/png": "[encoded data removed]",
      "text/plain": [
       "<Figure size 432x288 with 1 Axes>"
      ]
     },
     "metadata": {},
     "output_type": "display_data"
    }
   ],
   "source": [
    "#plot explained variance ratio\n",
    "plt.plot(np.cumsum(results.explained_variance_ratio_))\n",
    "plt.xlabel('number of components')\n",
    "plt.ylabel('cumulative explained variance');"
   ]
  },
  {
   "cell_type": "code",
   "execution_count": null,
   "metadata": {},
   "outputs": [],
   "source": [
    "#how many principle components could we use to approximate our data?\n",
    "#why?\n",
    "#were all assumptions of PCA met?"
   ]
  },
  {
   "cell_type": "markdown",
   "metadata": {},
   "source": [
    "I would say that we could use 3 or 4 principle components to approximate our data. The cumulative sum of all of the variance explained by our best 3 components is 89%, and for 4 components is 95%. After 4 components, we are only gaining 2% or less of variance explained...and isn't worth using to understand the data. Total variance is equal to 1...so I think all assumptions are met...not sure."
   ]
  },
  {
   "cell_type": "code",
   "execution_count": null,
   "metadata": {},
   "outputs": [],
   "source": []
  }
 ],
 "metadata": {
  "kernelspec": {
   "display_name": "Python 3",
   "language": "python",
   "name": "python3"
  },
  "language_info": {
   "codemirror_mode": {
    "name": "ipython",
    "version": 3
   },
   "file_extension": ".py",
   "mimetype": "text/x-python",
   "name": "python",
   "nbconvert_exporter": "python",
   "pygments_lexer": "ipython3",
   "version": "3.7.4"
  },
  "toc": {
   "base_numbering": 1,
   "nav_menu": {},
   "number_sections": true,
   "sideBar": true,
   "skip_h1_title": false,
   "title_cell": "Table of Contents",
   "title_sidebar": "Contents",
   "toc_cell": false,
   "toc_position": {},
   "toc_section_display": true,
   "toc_window_display": false
  }
 },
 "nbformat": 4,
 "nbformat_minor": 2
}
