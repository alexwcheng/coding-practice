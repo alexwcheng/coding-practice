{
 "cells": [
  {
   "cell_type": "markdown",
   "metadata": {},
   "source": [
    "Using this JSON object (which you have previously seen), create a loop that will yeild the cumulative age of the school.\n",
    "BONUS: just find the cumulative age of students.\n",
    "Hint: You might be easier to create a list of grades to initial loop through grades = ['Grade_3', 'Grade_2']"
   ]
  },
  {
   "cell_type": "code",
   "execution_count": 1,
   "metadata": {},
   "outputs": [],
   "source": [
    "dictionary_of_dictionary = {\"school_roster\": {\n",
    "    \"in_session\": \"yes\",\n",
    "    \"Grade_2\": {\n",
    "        \"class_roster\": [\n",
    "            {\n",
    "            \"title\": \"Teacher\",\n",
    "            \"name\": \"Sierra Vogt\",\n",
    "            \"age\": 34,\n",
    "            \"height\": 182},\n",
    "            {\n",
    "            \"title\": \"Student\",\n",
    "            \"name\": \"Blake Cross\",\n",
    "            \"age\": 12,\n",
    "            \"height\": 106},\n",
    "            {\n",
    "            \"title\": \"Student\",\n",
    "            \"name\": \"Clint Phlibin\",\n",
    "            \"age\": 11,\n",
    "            \"height\": 120\n",
    "    }]},\n",
    "    \"Grade_3\": {\n",
    "        \"class_roster\": [\n",
    "            {\n",
    "            \"title\": \"Teacher\",\n",
    "            \"name\": \"Aly Davies\",\n",
    "            \"age\": 53,\n",
    "            \"height\": 162},\n",
    "            {\n",
    "            \"title\": \"Student\",\n",
    "            \"name\": \"Alex Heer\",\n",
    "            \"age\": 13,\n",
    "            \"height\": 100},\n",
    "            {\n",
    "            \"title\": \"Student\",\n",
    "            \"name\": \"Eric Yost\",\n",
    "            \"age\": 12,\n",
    "            \"height\": 113}\n",
    "            ]\n",
    "}}}"
   ]
  },
  {
   "cell_type": "markdown",
   "metadata": {},
   "source": [
    "{{[]}}"
   ]
  },
  {
   "cell_type": "code",
   "execution_count": 36,
   "metadata": {},
   "outputs": [
    {
     "name": "stdout",
     "output_type": "stream",
     "text": [
      "sum age of school: 135\n",
      "sum age of students: 48\n"
     ]
    }
   ],
   "source": [
    "sum_age_of_school = 0 #assign variables for final answer\n",
    "sum_age_of_students = 0 #assign variable for final answer\n",
    "for grade in dictionary_of_dictionary['school_roster']: #for each grade dictionary within the overall dictionary:\n",
    "    if 'Grade' in grade: #if the dictionary name contains \"Grade\"\n",
    "        for person in dictionary_of_dictionary['school_roster'][grade]['class_roster']: #then run for loop through each person in the \"class_roster\" list \n",
    "            sum_age_of_school += person['age'] #sum age of all people in school to the assigned variable 'sum_age_of_school'\n",
    "            if person['title'] == 'Student': #if the 'title' of the person is 'student'\n",
    "                sum_age_of_students += person['age'] #then sum the age of all 'student' to the assigned variable 'sum_age_of_students'\n",
    "print('sum age of school: {}'.format(sum_age_of_school)) #print sum_age_of_school\n",
    "print('sum age of students: {}'.format(sum_age_of_students)) #print sum_age_of_students"
   ]
  },
  {
   "cell_type": "code",
   "execution_count": null,
   "metadata": {},
   "outputs": [],
   "source": []
  }
 ],
 "metadata": {
  "kernelspec": {
   "display_name": "Python 3",
   "language": "python",
   "name": "python3"
  },
  "language_info": {
   "codemirror_mode": {
    "name": "ipython",
    "version": 3
   },
   "file_extension": ".py",
   "mimetype": "text/x-python",
   "name": "python",
   "nbconvert_exporter": "python",
   "pygments_lexer": "ipython3",
   "version": "3.7.4"
  }
 },
 "nbformat": 4,
 "nbformat_minor": 2
}
