{
 "cells": [
  {
   "cell_type": "markdown",
   "metadata": {},
   "source": [
    "# HackerRank Python Itertools.Permutations()"
   ]
  },
  {
   "cell_type": "markdown",
   "metadata": {},
   "source": [
    "itertools.permutations(iterable[, r])\n",
    "\n",
    "- This tool returns successive r length permutations of elements in an iterable.\n",
    "- If r is not specified or is None, then r defaults to the length of the iterable, and all possible full length permutations are generated.\n",
    "- Permutations are printed in a lexicographic sorted order. So, if the input iterable is sorted, the permutation tuples will be produced in a sorted order.\n",
    "\n",
    "Sample Code:\n",
    "\n",
    "- from itertools import permutations\n",
    "- print permutations(['1','2','3'])\n",
    "- <itertools.permutations object at 0x02A45210>\n",
    "\n",
    "\n",
    "- print list(permutations(['1','2','3']))\n",
    "- [('1', '2', '3'), ('1', '3', '2'), ('2', '1', '3'), ('2', '3', '1'), ('3', '1', '2'), ('3', '2', '1')]\n",
    "\n",
    "\n",
    "- print list(permutations(['1','2','3'],2))\n",
    "- [('1', '2'), ('1', '3'), ('2', '1'), ('2', '3'), ('3', '1'), ('3', '2')]\n",
    "\n",
    "\n",
    "- print list(permutations('abc',3))\n",
    "- [('a', 'b', 'c'), ('a', 'c', 'b'), ('b', 'a', 'c'), ('b', 'c', 'a'), ('c', 'a', 'b'), ('c', 'b', 'a')]\n",
    "\n",
    "Task:\n",
    "- You are given a string S.Your task is to print all possible permutations of size k of the string in lexicographic sorted order.\n",
    "\n",
    "Input Format:\n",
    "- A single line containing the space separated string S and the integer value k.\n",
    "\n",
    "Constraints:\n",
    "- 0<k<len(S)\n",
    "- The string contains only UPPERCASE characters.\n",
    "\n",
    "Output Format:\n",
    "- Print the permutations of the string S on separate lines.\n",
    "\n",
    "Sample Input:\n",
    "- HACK 2\n",
    "\n",
    "Sample Output:\n",
    "\n",
    "- AC\n",
    "- AH\n",
    "- AK\n",
    "- CA\n",
    "- CH\n",
    "- CK\n",
    "- HA\n",
    "- HC\n",
    "- HK\n",
    "- KA\n",
    "- KC\n",
    "- KH\n",
    "\n",
    "Explanation:\n",
    "- All possible size 2 permutations of the string \"HACK\" are printed in lexicographic sorted order."
   ]
  },
  {
   "cell_type": "code",
   "execution_count": 16,
   "metadata": {},
   "outputs": [],
   "source": [
    "# first pass\n",
    "# just want to try and get the correct result, however possible.\n",
    "from itertools import permutations\n",
    "def perms():\n",
    "    return(list(permutations(['S','T','R','I','N','G'],2)))"
   ]
  },
  {
   "cell_type": "code",
   "execution_count": 17,
   "metadata": {},
   "outputs": [
    {
     "data": {
      "text/plain": [
       "[('S', 'T'),\n",
       " ('S', 'R'),\n",
       " ('S', 'I'),\n",
       " ('S', 'N'),\n",
       " ('S', 'G'),\n",
       " ('T', 'S'),\n",
       " ('T', 'R'),\n",
       " ('T', 'I'),\n",
       " ('T', 'N'),\n",
       " ('T', 'G'),\n",
       " ('R', 'S'),\n",
       " ('R', 'T'),\n",
       " ('R', 'I'),\n",
       " ('R', 'N'),\n",
       " ('R', 'G'),\n",
       " ('I', 'S'),\n",
       " ('I', 'T'),\n",
       " ('I', 'R'),\n",
       " ('I', 'N'),\n",
       " ('I', 'G'),\n",
       " ('N', 'S'),\n",
       " ('N', 'T'),\n",
       " ('N', 'R'),\n",
       " ('N', 'I'),\n",
       " ('N', 'G'),\n",
       " ('G', 'S'),\n",
       " ('G', 'T'),\n",
       " ('G', 'R'),\n",
       " ('G', 'I'),\n",
       " ('G', 'N')]"
      ]
     },
     "execution_count": 17,
     "metadata": {},
     "output_type": "execute_result"
    }
   ],
   "source": [
    "# this is the result we want...\n",
    "# but input is wrong...\n",
    "# and output shouldn't have tuples, commas, quotes, or spaces...\n",
    "\n",
    "perms()"
   ]
  },
  {
   "cell_type": "code",
   "execution_count": 31,
   "metadata": {},
   "outputs": [
    {
     "name": "stdout",
     "output_type": "stream",
     "text": [
      "STRING 2\n",
      "<itertools.permutations object at 0x7f99a825c3b0>\n"
     ]
    }
   ],
   "source": [
    "# second pass\n",
    "# provide an input box\n",
    "# we want permutations(sorted(S), int(k))\n",
    "\n",
    "from itertools import permutations\n",
    "S,k = input().split()\n",
    "print(permutations(sorted(S),int(k)))\n",
    "\n",
    "# but this only returns a itertools.permutations object"
   ]
  },
  {
   "cell_type": "code",
   "execution_count": 32,
   "metadata": {},
   "outputs": [],
   "source": [
    "test = [\n",
    " ('S', 'T'),\n",
    " ('S', 'R'),\n",
    " ('S', 'I'),\n",
    " ('S', 'N'),\n",
    " ('S', 'G'),\n",
    " ('T', 'S'),\n",
    " ('T', 'R'),\n",
    " ('T', 'I'),\n",
    " ('T', 'N'),\n",
    " ('T', 'G'),\n",
    " ('R', 'S'),\n",
    " ('R', 'T'),\n",
    " ('R', 'I'),\n",
    " ('R', 'N'),\n",
    " ('R', 'G'),\n",
    " ('I', 'S'),\n",
    " ('I', 'T'),\n",
    " ('I', 'R'),\n",
    " ('I', 'N'),\n",
    " ('I', 'G'),\n",
    " ('N', 'S'),\n",
    " ('N', 'T'),\n",
    " ('N', 'R'),\n",
    " ('N', 'I'),\n",
    " ('N', 'G'),\n",
    " ('G', 'S'),\n",
    " ('G', 'T'),\n",
    " ('G', 'R'),\n",
    " ('G', 'I'),\n",
    " ('G', 'N')]"
   ]
  },
  {
   "cell_type": "code",
   "execution_count": 33,
   "metadata": {},
   "outputs": [
    {
     "data": {
      "text/plain": [
       "[('G', 'I'),\n",
       " ('G', 'N'),\n",
       " ('G', 'R'),\n",
       " ('G', 'S'),\n",
       " ('G', 'T'),\n",
       " ('I', 'G'),\n",
       " ('I', 'N'),\n",
       " ('I', 'R'),\n",
       " ('I', 'S'),\n",
       " ('I', 'T'),\n",
       " ('N', 'G'),\n",
       " ('N', 'I'),\n",
       " ('N', 'R'),\n",
       " ('N', 'S'),\n",
       " ('N', 'T'),\n",
       " ('R', 'G'),\n",
       " ('R', 'I'),\n",
       " ('R', 'N'),\n",
       " ('R', 'S'),\n",
       " ('R', 'T'),\n",
       " ('S', 'G'),\n",
       " ('S', 'I'),\n",
       " ('S', 'N'),\n",
       " ('S', 'R'),\n",
       " ('S', 'T'),\n",
       " ('T', 'G'),\n",
       " ('T', 'I'),\n",
       " ('T', 'N'),\n",
       " ('T', 'R'),\n",
       " ('T', 'S')]"
      ]
     },
     "execution_count": 33,
     "metadata": {},
     "output_type": "execute_result"
    }
   ],
   "source": [
    "# we need to provide the output in lexicographic sorted order.\n",
    "sorted(test)"
   ]
  },
  {
   "cell_type": "code",
   "execution_count": 47,
   "metadata": {},
   "outputs": [
    {
     "name": "stdout",
     "output_type": "stream",
     "text": [
      "ST\n",
      "SR\n",
      "SI\n",
      "SN\n",
      "SG\n",
      "TS\n",
      "TR\n",
      "TI\n",
      "TN\n",
      "TG\n",
      "RS\n",
      "RT\n",
      "RI\n",
      "RN\n",
      "RG\n",
      "IS\n",
      "IT\n",
      "IR\n",
      "IN\n",
      "IG\n",
      "NS\n",
      "NT\n",
      "NR\n",
      "NI\n",
      "NG\n",
      "GS\n",
      "GT\n",
      "GR\n",
      "GI\n",
      "GN\n"
     ]
    }
   ],
   "source": [
    "# we need to eliminate commas, quotes, spaces, and tuples from the output.\n",
    "for x in test:\n",
    "    print(''.join(x))"
   ]
  },
  {
   "cell_type": "code",
   "execution_count": 36,
   "metadata": {},
   "outputs": [
    {
     "name": "stdout",
     "output_type": "stream",
     "text": [
      "GI\n",
      "GN\n",
      "GR\n",
      "GS\n",
      "GT\n",
      "IG\n",
      "IN\n",
      "IR\n",
      "IS\n",
      "IT\n",
      "NG\n",
      "NI\n",
      "NR\n",
      "NS\n",
      "NT\n",
      "RG\n",
      "RI\n",
      "RN\n",
      "RS\n",
      "RT\n",
      "SG\n",
      "SI\n",
      "SN\n",
      "SR\n",
      "ST\n",
      "TG\n",
      "TI\n",
      "TN\n",
      "TR\n",
      "TS\n"
     ]
    }
   ],
   "source": [
    "# combine sort() and join() methods:\n",
    "print(*[''.join(i) for i in sorted(test)], sep='\\n')"
   ]
  },
  {
   "cell_type": "code",
   "execution_count": 48,
   "metadata": {},
   "outputs": [
    {
     "name": "stdout",
     "output_type": "stream",
     "text": [
      "STRING 2\n",
      "GI\n",
      "GN\n",
      "GR\n",
      "GS\n",
      "GT\n",
      "IG\n",
      "IN\n",
      "IR\n",
      "IS\n",
      "IT\n",
      "NG\n",
      "NI\n",
      "NR\n",
      "NS\n",
      "NT\n",
      "RG\n",
      "RI\n",
      "RN\n",
      "RS\n",
      "RT\n",
      "SG\n",
      "SI\n",
      "SN\n",
      "SR\n",
      "ST\n",
      "TG\n",
      "TI\n",
      "TN\n",
      "TR\n",
      "TS\n"
     ]
    }
   ],
   "source": [
    "# third pass\n",
    "# list comprehension - for each permutation...\n",
    "# we want to join letters in each permutation.\n",
    "\n",
    "from itertools import permutations\n",
    "S,k = input().split()\n",
    "print(*[''.join(i) for i in permutations(sorted(S),int(k))],sep='\\n')\n",
    "\n",
    "# YES!"
   ]
  }
 ],
 "metadata": {
  "kernelspec": {
   "display_name": "Python 3",
   "language": "python",
   "name": "python3"
  },
  "language_info": {
   "codemirror_mode": {
    "name": "ipython",
    "version": 3
   },
   "file_extension": ".py",
   "mimetype": "text/x-python",
   "name": "python",
   "nbconvert_exporter": "python",
   "pygments_lexer": "ipython3",
   "version": "3.7.4"
  },
  "toc": {
   "base_numbering": 1,
   "nav_menu": {},
   "number_sections": true,
   "sideBar": true,
   "skip_h1_title": true,
   "title_cell": "Table of Contents",
   "title_sidebar": "Contents",
   "toc_cell": false,
   "toc_position": {},
   "toc_section_display": true,
   "toc_window_display": true
  }
 },
 "nbformat": 4,
 "nbformat_minor": 2
}
