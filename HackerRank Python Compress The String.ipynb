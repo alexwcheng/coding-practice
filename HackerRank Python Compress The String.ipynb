{
 "cells": [
  {
   "cell_type": "markdown",
   "metadata": {},
   "source": [
    "# HackerRank Python Compress The String!"
   ]
  },
  {
   "cell_type": "markdown",
   "metadata": {},
   "source": [
    "Task:\n",
    "- In this task, we would like for you to appreciate the usefulness of the groupby() function of itertools . To read more about this function, Check this out. https://docs.python.org/2/library/itertools.html#itertools.groupby\n",
    "- You are given a string S. Suppose a character 'c' occurs consecutively X times in the string. Replace these consecutive occurrences of the character 'c' with (X, c) in the string.\n",
    "- For a better understanding of the problem, check the explanation.\n",
    "\n",
    "Input Format:\n",
    "- A single line of input consisting of the string S.\n",
    "\n",
    "Output Format:\n",
    "- A single line of output consisting of the modified string.\n",
    "\n",
    "Constraints:\n",
    "- All the characters of S denote integers between 0 and 9.\n",
    "- 1<=|S|<=10^4\n",
    "\n",
    "Sample Input:\n",
    "- 1222311\n",
    "\n",
    "Sample Output:\n",
    "- (1, 1) (3, 2) (1, 3) (2, 1)\n",
    "\n",
    "Explanation:\n",
    "- First, the character 1 occurs only once. It is replaced by (1,1). Then the character 2 occurs three times, and it is replaced by (3,2) and so on.\n",
    "- Also, note the single space within each compression and between the compressions."
   ]
  },
  {
   "cell_type": "code",
   "execution_count": 1,
   "metadata": {},
   "outputs": [],
   "source": [
    "from itertools import groupby"
   ]
  },
  {
   "cell_type": "code",
   "execution_count": 7,
   "metadata": {},
   "outputs": [],
   "source": [
    "test = []"
   ]
  },
  {
   "cell_type": "code",
   "execution_count": 4,
   "metadata": {},
   "outputs": [],
   "source": [
    "S = '122333444455555666666777777788888888999999999'"
   ]
  },
  {
   "cell_type": "code",
   "execution_count": 8,
   "metadata": {},
   "outputs": [],
   "source": [
    "for x in groupby(S):\n",
    "    test.append(x)"
   ]
  },
  {
   "cell_type": "code",
   "execution_count": 9,
   "metadata": {
    "scrolled": true
   },
   "outputs": [
    {
     "data": {
      "text/plain": [
       "[('1', <itertools._grouper at 0x7fee98234810>),\n",
       " ('2', <itertools._grouper at 0x7fee98234850>),\n",
       " ('3', <itertools._grouper at 0x7fee98234890>),\n",
       " ('4', <itertools._grouper at 0x7fee982348d0>),\n",
       " ('5', <itertools._grouper at 0x7fee98234910>),\n",
       " ('6', <itertools._grouper at 0x7fee98234990>),\n",
       " ('7', <itertools._grouper at 0x7fee982349d0>),\n",
       " ('8', <itertools._grouper at 0x7fee98234a10>),\n",
       " ('9', <itertools._grouper at 0x7fee98234a50>)]"
      ]
     },
     "execution_count": 9,
     "metadata": {},
     "output_type": "execute_result"
    }
   ],
   "source": [
    "key_func = lambda x: x[0]"
   ]
  },
  {
   "cell_type": "code",
   "execution_count": 12,
   "metadata": {},
   "outputs": [
    {
     "name": "stdout",
     "output_type": "stream",
     "text": [
      "a : [('a', 1), ('a', 2)]\n",
      "b : [('b', 3), ('b', 4)]\n"
     ]
    }
   ],
   "source": [
    "# Example 1 using itertools.groupby()\n",
    "\n",
    "from itertools import groupby\n",
    "L = [(\"a\", 1), (\"a\", 2), (\"b\", 3), (\"b\", 4)] \n",
    "  \n",
    "# Key function \n",
    "key_func = lambda x: x[0] \n",
    "for key, group in groupby(L, key_func): \n",
    "    print(key + \" :\", list(group)) "
   ]
  },
  {
   "cell_type": "code",
   "execution_count": 13,
   "metadata": {},
   "outputs": [
    {
     "name": "stdout",
     "output_type": "stream",
     "text": [
      "{'Animal': [('Animal', 'cat'), ('Animal', 'dog')]}\n",
      "{'Bird': [('Bird', 'peacock'), ('Bird', 'pigeon')]}\n"
     ]
    }
   ],
   "source": [
    "# Example 2 using itertools.groupby()\n",
    "\n",
    "from itertools import groupby\n",
    "  \n",
    "a_list = [(\"Animal\", \"cat\"),  \n",
    "          (\"Animal\", \"dog\"),  \n",
    "          (\"Bird\", \"peacock\"),  \n",
    "          (\"Bird\", \"pigeon\")] \n",
    "  \n",
    "an_iterator = groupby(a_list, lambda x : x[0]) \n",
    "  \n",
    "for key, group in an_iterator: \n",
    "    key_and_group = {key : list(group)} \n",
    "    print(key_and_group) "
   ]
  },
  {
   "cell_type": "code",
   "execution_count": 14,
   "metadata": {},
   "outputs": [
    {
     "name": "stdout",
     "output_type": "stream",
     "text": [
      "1223334444\n",
      "(1, 1) (2, 2) (3, 3) (4, 4)\n"
     ]
    }
   ],
   "source": [
    "# solution via list comprehension:\n",
    "from itertools import groupby\n",
    "print(*[(len(list(c)), int(k)) for k, c in groupby(input())])"
   ]
  },
  {
   "cell_type": "code",
   "execution_count": 4,
   "metadata": {},
   "outputs": [
    {
     "name": "stdout",
     "output_type": "stream",
     "text": [
      "1223334444\n",
      "(1, 1) (2, 2) (3, 3) (4, 4) "
     ]
    }
   ],
   "source": [
    "# solution via for loop:\n",
    "for key, group in groupby(input()): \n",
    "    key= int(key)\n",
    "    count = len(list(group))\n",
    "    print((count,key),end=' ')"
   ]
  }
 ],
 "metadata": {
  "kernelspec": {
   "display_name": "Python 3",
   "language": "python",
   "name": "python3"
  },
  "language_info": {
   "codemirror_mode": {
    "name": "ipython",
    "version": 3
   },
   "file_extension": ".py",
   "mimetype": "text/x-python",
   "name": "python",
   "nbconvert_exporter": "python",
   "pygments_lexer": "ipython3",
   "version": "3.7.4"
  },
  "toc": {
   "base_numbering": 1,
   "nav_menu": {},
   "number_sections": true,
   "sideBar": true,
   "skip_h1_title": true,
   "title_cell": "Table of Contents",
   "title_sidebar": "Contents",
   "toc_cell": false,
   "toc_position": {
    "height": "calc(100% - 180px)",
    "left": "10px",
    "top": "150px",
    "width": "185.085px"
   },
   "toc_section_display": true,
   "toc_window_display": true
  }
 },
 "nbformat": 4,
 "nbformat_minor": 2
}
