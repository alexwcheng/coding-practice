{
 "cells": [
  {
   "cell_type": "markdown",
   "metadata": {},
   "source": [
    "1. Using the dictionary named people you used yesterday, replace the float number of one of your objects - we are changing a list entry inside a dictionary record! look at Darwin's new age Example: {Charles: [99.73, \"Darwin\"], Alan: [42.5, \"Turing\"]}\n",
    "2. Write a for loop that goes through all records in the dictionary, and assigns the float numbers into one merged list named ages (see ages) ages = [23.4, 22.9, 552.9]\n",
    "BONUS: Calculate loop the median and mean of the ages list with a for loop"
   ]
  },
  {
   "cell_type": "code",
   "execution_count": 20,
   "metadata": {},
   "outputs": [
    {
     "data": {
      "text/plain": [
       "[[26.75, 'Cheng'],\n",
       " [40.13, 'Chatto'],\n",
       " [67.39, 'Flood'],\n",
       " [93.12, 'King'],\n",
       " [40.98, 'Queen']]"
      ]
     },
     "execution_count": 20,
     "metadata": {},
     "output_type": "execute_result"
    }
   ],
   "source": [
    "#declare people\n",
    "people = {'Alex' : [26.75, 'Cheng'], \n",
    "               'Chris' : [40.13, 'Chatto'], \n",
    "               'Allen' : [67.39, 'Flood'], \n",
    "               'Larry' : [93.12, 'King'],\n",
    "               'Beyonce' : [40.98, 'Queen']}\n",
    "values = list(people.values())\n",
    "ages = []\n",
    "\n",
    "#for loop and append floats in \"ages\" list\n",
    "for value in values:\n",
    "    ages.append(value[0])\n",
    "ages\n",
    "\n",
    "#declare median and mean, for loop to find mean\n",
    "median = 0\n",
    "mean = 0\n",
    "for age in ages:\n",
    "    mean += age/len(ages)\n",
    "mean\n",
    "\n",
    "#sort ages list, \n",
    "ages_sorted = sorted(ages)\n",
    "ages_sorted\n",
    "\n",
    "for age in ages_sorted:\n",
    "    if age == 40.98:\n",
    "        print(age)"
   ]
  },
  {
   "cell_type": "code",
   "execution_count": 21,
   "metadata": {},
   "outputs": [
    {
     "data": {
      "text/plain": [
       "[26.75, 40.13, 67.39, 93.12, 40.98]"
      ]
     },
     "execution_count": 21,
     "metadata": {},
     "output_type": "execute_result"
    }
   ],
   "source": [
    "for value in values:\n",
    "    ages.append(value[0])\n",
    "ages"
   ]
  },
  {
   "cell_type": "code",
   "execution_count": 27,
   "metadata": {},
   "outputs": [
    {
     "data": {
      "text/plain": [
       "53.674"
      ]
     },
     "execution_count": 27,
     "metadata": {},
     "output_type": "execute_result"
    }
   ],
   "source": [
    "median = 0\n",
    "mean = 0\n",
    "for age in ages:\n",
    "    mean += age/len(ages)\n",
    "mean"
   ]
  },
  {
   "cell_type": "code",
   "execution_count": 35,
   "metadata": {},
   "outputs": [
    {
     "data": {
      "text/plain": [
       "[26.75, 40.13, 40.98, 67.39, 93.12]"
      ]
     },
     "execution_count": 35,
     "metadata": {},
     "output_type": "execute_result"
    }
   ],
   "source": [
    "ages_sorted = sorted(ages)\n",
    "ages_sorted"
   ]
  },
  {
   "cell_type": "code",
   "execution_count": 46,
   "metadata": {},
   "outputs": [
    {
     "name": "stdout",
     "output_type": "stream",
     "text": [
      "40.98\n"
     ]
    }
   ],
   "source": [
    "for age in ages_sorted:\n",
    "    if age == 40.98:\n",
    "        print(age)"
   ]
  },
  {
   "cell_type": "code",
   "execution_count": null,
   "metadata": {},
   "outputs": [],
   "source": []
  }
 ],
 "metadata": {
  "kernelspec": {
   "display_name": "Python 3",
   "language": "python",
   "name": "python3"
  },
  "language_info": {
   "codemirror_mode": {
    "name": "ipython",
    "version": 3
   },
   "file_extension": ".py",
   "mimetype": "text/x-python",
   "name": "python",
   "nbconvert_exporter": "python",
   "pygments_lexer": "ipython3",
   "version": "3.7.4"
  }
 },
 "nbformat": 4,
 "nbformat_minor": 2
}
