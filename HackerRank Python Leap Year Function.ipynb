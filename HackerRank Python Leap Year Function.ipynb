{
 "cells": [
  {
   "cell_type": "markdown",
   "metadata": {},
   "source": [
    "# HackerRank Python Leap Year Function"
   ]
  },
  {
   "cell_type": "markdown",
   "metadata": {},
   "source": [
    "We add a Leap Day on February 29, almost every four years. The leap day is an extra, or intercalary day and we add it to the shortest month of the year, February. In the Gregorian calendar three criteria must be taken into account to identify leap years:\n",
    "\n",
    "- The year can be evenly divided by 4, is a leap year, unless:\n",
    "- The year can be evenly divided by 100, it is NOT a leap year, unless:\n",
    "- The year is also evenly divisible by 400. Then it is a leap year.\n",
    "- This means that in the Gregorian calendar, the years 2000 and 2400 are leap years, while 1800, 1900, 2100, 2200, 2300 and 2500 are NOT leap years.\n",
    "\n",
    "Task:\n",
    "- You are given the year, and you have to write a function to check if the year is leap or not.\n",
    "- Note that you have to complete the function and remaining code is given as template.\n",
    "\n",
    "Input Format:\n",
    "- Read y, the year that needs to be checked.\n",
    "\n",
    "Constraints:\n",
    "- 1900<=y<=10^5\n",
    "\n",
    "Output Format:\n",
    "- Output is taken care of by the template. Your function must return a boolean value (True/False)\n",
    "\n",
    "Sample Input\n",
    "- 1990\n",
    "\n",
    "Sample Output\n",
    "- False\n",
    "\n",
    "Explanation:\n",
    "- 1990 is not a multiple of 4 hence it's not a leap year."
   ]
  },
  {
   "cell_type": "code",
   "execution_count": null,
   "metadata": {},
   "outputs": [],
   "source": [
    "# given this code:\n",
    "\n",
    "def is_leap(year):\n",
    "    leap = False\n",
    "    \n",
    "    # Write your logic here\n",
    "    \n",
    "    return leap\n",
    "\n",
    "year = int(input())"
   ]
  },
  {
   "cell_type": "code",
   "execution_count": 16,
   "metadata": {},
   "outputs": [
    {
     "name": "stdout",
     "output_type": "stream",
     "text": [
      "2000\n"
     ]
    }
   ],
   "source": [
    "def is_leap(year):\n",
    "    return year % 4 == 0 and (year % 400 == 0 or year % 100 != 0)"
   ]
  },
  {
   "cell_type": "code",
   "execution_count": 17,
   "metadata": {},
   "outputs": [
    {
     "data": {
      "text/plain": [
       "True"
      ]
     },
     "execution_count": 17,
     "metadata": {},
     "output_type": "execute_result"
    }
   ],
   "source": [
    "is_leap(year)"
   ]
  }
 ],
 "metadata": {
  "kernelspec": {
   "display_name": "Python 3",
   "language": "python",
   "name": "python3"
  },
  "language_info": {
   "codemirror_mode": {
    "name": "ipython",
    "version": 3
   },
   "file_extension": ".py",
   "mimetype": "text/x-python",
   "name": "python",
   "nbconvert_exporter": "python",
   "pygments_lexer": "ipython3",
   "version": "3.7.4"
  },
  "toc": {
   "base_numbering": 1,
   "nav_menu": {},
   "number_sections": true,
   "sideBar": true,
   "skip_h1_title": false,
   "title_cell": "Table of Contents",
   "title_sidebar": "Contents",
   "toc_cell": false,
   "toc_position": {},
   "toc_section_display": true,
   "toc_window_display": false
  }
 },
 "nbformat": 4,
 "nbformat_minor": 2
}
