{
 "cells": [
  {
   "cell_type": "markdown",
   "metadata": {},
   "source": [
    "# HackerRank Python Loops"
   ]
  },
  {
   "cell_type": "markdown",
   "metadata": {},
   "source": [
    "Task:\n",
    "- Read an integer \"n\". For all non-negative integers i<n, print i^2. See the sample for details.\n",
    "\n",
    "Input Format:\n",
    "- The first and only line contains the integer, .\n",
    "\n",
    "Constraints:\n",
    "- 1<=n<=20\n",
    "\n",
    "Output Format:\n",
    "- Print n lines, one corresponding to each i.\n",
    "\n",
    "Sample Input:\n",
    "- 5\n",
    "\n",
    "Sample Output:\n",
    "- 0\n",
    "- 1\n",
    "- 4\n",
    "- 9\n",
    "- 16"
   ]
  },
  {
   "cell_type": "code",
   "execution_count": 2,
   "metadata": {},
   "outputs": [
    {
     "name": "stdout",
     "output_type": "stream",
     "text": [
      "5\n",
      "0\n",
      "1\n",
      "4\n",
      "9\n",
      "16\n"
     ]
    }
   ],
   "source": [
    "# not a hard code challenge at all. \n",
    "# just need to create a range between 0 and the input integer, \"n\"\n",
    "n = int(input())\n",
    "for i in range(0,n):\n",
    "    print(i**2)"
   ]
  }
 ],
 "metadata": {
  "kernelspec": {
   "display_name": "Python 3",
   "language": "python",
   "name": "python3"
  },
  "language_info": {
   "codemirror_mode": {
    "name": "ipython",
    "version": 3
   },
   "file_extension": ".py",
   "mimetype": "text/x-python",
   "name": "python",
   "nbconvert_exporter": "python",
   "pygments_lexer": "ipython3",
   "version": "3.7.4"
  },
  "toc": {
   "base_numbering": 1,
   "nav_menu": {},
   "number_sections": true,
   "sideBar": true,
   "skip_h1_title": true,
   "title_cell": "Table of Contents",
   "title_sidebar": "Contents",
   "toc_cell": false,
   "toc_position": {},
   "toc_section_display": true,
   "toc_window_display": true
  }
 },
 "nbformat": 4,
 "nbformat_minor": 2
}
