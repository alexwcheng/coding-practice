{
 "cells": [
  {
   "cell_type": "markdown",
   "metadata": {},
   "source": [
    "Given an integer number n (between 1 to 10^5), return the difference between the product of its digits and the sum of its digits.\n",
    "\n",
    "\n",
    "Example:\n",
    "- Input: n = 234 \n",
    "- Output: 15 \n",
    "\n",
    "\n",
    "Explanation: \n",
    "- Product of digits = 2 * 3 * 4 = 24 \n",
    "- Sum of digits = 2 + 3 + 4 = 9 \n",
    "- Result = 24 - 9 = 15"
   ]
  },
  {
   "cell_type": "code",
   "execution_count": 25,
   "metadata": {},
   "outputs": [],
   "source": [
    "def difference(n):\n",
    "    numbers = []\n",
    "    for number in str(n):\n",
    "        numbers.append(int(number))\n",
    "\n",
    "    if len(numbers) == 1:\n",
    "        return(numbers[0])\n",
    "        \n",
    "    elif len(numbers) == 2:\n",
    "        return((numbers[0] * numbers[1]) - \n",
    "              (numbers[0] + numbers[1]))\n",
    "    \n",
    "    elif len(numbers) == 3:\n",
    "        return((numbers[0] * numbers[1] * numbers[2]) - \n",
    "              (numbers[0] + numbers[1] + numbers[2]))\n",
    "        \n",
    "    elif len(numbers) == 4:\n",
    "        return((numbers[0] * numbers[1] * numbers[2] * numbers[3]) - \n",
    "              (numbers[0] + numbers[1] + numbers[2] + numbers[3]))\n",
    "        \n",
    "    elif len(numbers) == 5:\n",
    "        return((numbers[0] * numbers[1] * numbers[2] * numbers[3] * numbers[4]) - \n",
    "              (numbers[0] + numbers[1] + numbers[2] + numbers[3] + numbers[4]))"
   ]
  },
  {
   "cell_type": "code",
   "execution_count": 26,
   "metadata": {
    "scrolled": true
   },
   "outputs": [
    {
     "data": {
      "text/plain": [
       "3"
      ]
     },
     "execution_count": 26,
     "metadata": {},
     "output_type": "execute_result"
    }
   ],
   "source": [
    "difference(25)"
   ]
  },
  {
   "cell_type": "code",
   "execution_count": 27,
   "metadata": {},
   "outputs": [
    {
     "data": {
      "text/plain": [
       "282"
      ]
     },
     "execution_count": 27,
     "metadata": {},
     "output_type": "execute_result"
    }
   ],
   "source": [
    "difference(53415)"
   ]
  }
 ],
 "metadata": {
  "kernelspec": {
   "display_name": "Python 3",
   "language": "python",
   "name": "python3"
  },
  "language_info": {
   "codemirror_mode": {
    "name": "ipython",
    "version": 3
   },
   "file_extension": ".py",
   "mimetype": "text/x-python",
   "name": "python",
   "nbconvert_exporter": "python",
   "pygments_lexer": "ipython3",
   "version": "3.7.4"
  },
  "toc": {
   "base_numbering": 1,
   "nav_menu": {},
   "number_sections": true,
   "sideBar": true,
   "skip_h1_title": false,
   "title_cell": "Table of Contents",
   "title_sidebar": "Contents",
   "toc_cell": false,
   "toc_position": {},
   "toc_section_display": true,
   "toc_window_display": false
  }
 },
 "nbformat": 4,
 "nbformat_minor": 2
}
