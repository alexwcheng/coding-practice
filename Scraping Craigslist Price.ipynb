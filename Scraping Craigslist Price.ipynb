{
 "cells": [
  {
   "cell_type": "markdown",
   "metadata": {},
   "source": [
    "# Scraping Craigslist Price"
   ]
  },
  {
   "cell_type": "markdown",
   "metadata": {},
   "source": [
    "Provide the code that will scrape the rental price of the last apartment/house listed on this craigslist website https://washingtondc.craigslist.org/search/apa"
   ]
  },
  {
   "cell_type": "code",
   "execution_count": 23,
   "metadata": {},
   "outputs": [
    {
     "data": {
      "text/plain": [
       "'$2425'"
      ]
     },
     "execution_count": 23,
     "metadata": {},
     "output_type": "execute_result"
    }
   ],
   "source": [
    "import requests\n",
    "from bs4 import BeautifulSoup\n",
    "#get page from \"source\" tab in Chrome Developer Tools sidebar\n",
    "page = requests.get(\"https://washingtondc.craigslist.org/search/apa\")\n",
    "#set \"soup\"\n",
    "soup = BeautifulSoup(page.content, 'html.parser')\n",
    "#find the class associated with the price using the Chrome Developer Tools sidebar. \n",
    "#The class for price is \"result-price\"\n",
    "#We want to prefix with a (.) since it is a class.\n",
    "#We want the last item, so index to [-1]\n",
    "last_price = soup.select(\".result-price\")[-1]\n",
    "#We just want the text, no additional output. Use .get_text() method.\n",
    "last_price.get_text()"
   ]
  },
  {
   "cell_type": "markdown",
   "metadata": {},
   "source": [
    "### Alternative Solution:"
   ]
  },
  {
   "cell_type": "code",
   "execution_count": 1,
   "metadata": {},
   "outputs": [
    {
     "name": "stdout",
     "output_type": "stream",
     "text": [
      "$1300\n"
     ]
    }
   ],
   "source": [
    "#this gets us the latest listing price by date.\n",
    "import requests\n",
    "from bs4 import BeautifulSoup\n",
    "url = 'https://washingtondc.craigslist.org/search/apa?sort=date&'\n",
    "data = requests.get(url).content\n",
    "soup = BeautifulSoup(data)\n",
    "latest_listing_price = soup.select('.result-price')[0].text\n",
    "print(latest_listing_price)"
   ]
  },
  {
   "cell_type": "markdown",
   "metadata": {},
   "source": [
    "### Alternative Solution:"
   ]
  },
  {
   "cell_type": "code",
   "execution_count": 2,
   "metadata": {},
   "outputs": [
    {
     "data": {
      "text/plain": [
       "'$2242'"
      ]
     },
     "execution_count": 2,
     "metadata": {},
     "output_type": "execute_result"
    }
   ],
   "source": [
    "#This gets us all results for result-price class, and gets the last element shown on the website.\n",
    "#This is probably the right way.\n",
    "import requests\n",
    "from bs4 import BeautifulSoup \n",
    "page = requests.get('https://washingtondc.craigslist.org/search/apa')\n",
    "soup = BeautifulSoup(page.content, 'lxml')\n",
    "soup.find_all('span', attrs = {'class' : 'result-price'})[-1].text"
   ]
  },
  {
   "cell_type": "code",
   "execution_count": null,
   "metadata": {},
   "outputs": [],
   "source": []
  }
 ],
 "metadata": {
  "kernelspec": {
   "display_name": "Python 3",
   "language": "python",
   "name": "python3"
  },
  "language_info": {
   "codemirror_mode": {
    "name": "ipython",
    "version": 3
   },
   "file_extension": ".py",
   "mimetype": "text/x-python",
   "name": "python",
   "nbconvert_exporter": "python",
   "pygments_lexer": "ipython3",
   "version": "3.7.4"
  }
 },
 "nbformat": 4,
 "nbformat_minor": 2
}
