{
 "cells": [
  {
   "cell_type": "markdown",
   "metadata": {},
   "source": [
    "# HackerRank Python Itertools.Combinations_With_Replacement()"
   ]
  },
  {
   "cell_type": "markdown",
   "metadata": {},
   "source": [
    "itertools.combinations_with_replacement(iterable, r)\n",
    "- This tool returns  length subsequences of elements from the input iterable allowing individual elements to be repeated more than once.\n",
    "- Combinations are emitted in lexicographic sorted order. So, if the input iterable is sorted, the combination tuples will be produced in sorted order.\n",
    "\n",
    "Sample Code:\n",
    "\n",
    "- from itertools import combinations_with_replacement\n",
    "- print list(combinations_with_replacement('12345',2))\n",
    "- [('1', '1'), ('1', '2'), ('1', '3'), ('1', '4'), ('1', '5'), ('2', '2'), ('2', '3'), ('2', '4'), ('2', '5'), ('3', '3'), ('3', '4'), ('3', '5'), ('4', '4'), ('4', '5'), ('5', '5')]\n",
    "\n",
    "- A = [1,1,3,3,3]\n",
    "- print list(combinations(A,2))\n",
    "- [(1, 1), (1, 3), (1, 3), (1, 3), (1, 3), (1, 3), (1, 3), (3, 3), (3, 3), (3, 3)]\n",
    "\n",
    "Task:\n",
    "- You are given a string S.\n",
    "- Your task is to print all possible size k replacement combinations of the string in lexicographic sorted order.\n",
    "\n",
    "Input Format:\n",
    "- A single line containing the string S and integer value k separated by a space.\n",
    "\n",
    "Constraints:\n",
    "- 0<k<=len(S)\n",
    "- The string contains only UPPERCASE characters.\n",
    "\n",
    "Output Format:\n",
    "- Print the combinations with their replacements of string S on separate lines.\n",
    "\n",
    "Sample Input:\n",
    "- HACK 2\n",
    "\n",
    "Sample Output:\n",
    "- AA\n",
    "- AC\n",
    "- AH\n",
    "- AK\n",
    "- CC\n",
    "- CH\n",
    "- CK\n",
    "- HH\n",
    "- HK\n",
    "- KK"
   ]
  },
  {
   "cell_type": "code",
   "execution_count": 6,
   "metadata": {},
   "outputs": [
    {
     "data": {
      "text/plain": [
       "['DATA', 'SCIENCE', '-', 'IS', 'COOL']"
      ]
     },
     "execution_count": 6,
     "metadata": {},
     "output_type": "execute_result"
    }
   ],
   "source": [
    "# understanding the split() method:\n",
    "test='DATA SCIENCE - IS COOL'\n",
    "test.split()"
   ]
  },
  {
   "cell_type": "code",
   "execution_count": 7,
   "metadata": {},
   "outputs": [
    {
     "name": "stdout",
     "output_type": "stream",
     "text": [
      "HACK 2\n",
      "AA\n",
      "AC\n",
      "AH\n",
      "AK\n",
      "CC\n",
      "CH\n",
      "CK\n",
      "HH\n",
      "HK\n",
      "KK\n"
     ]
    }
   ],
   "source": [
    "# this problem is just about the same as the\n",
    "# itertools.permutations() HackerRank problem.\n",
    "\n",
    "from itertools import combinations_with_replacement\n",
    "S,k = input().split()\n",
    "print(*[''.join(i) for i in combinations_with_replacement(sorted(S),int(k))],sep='\\n')"
   ]
  }
 ],
 "metadata": {
  "kernelspec": {
   "display_name": "Python 3",
   "language": "python",
   "name": "python3"
  },
  "language_info": {
   "codemirror_mode": {
    "name": "ipython",
    "version": 3
   },
   "file_extension": ".py",
   "mimetype": "text/x-python",
   "name": "python",
   "nbconvert_exporter": "python",
   "pygments_lexer": "ipython3",
   "version": "3.7.4"
  },
  "toc": {
   "base_numbering": 1,
   "nav_menu": {},
   "number_sections": true,
   "sideBar": true,
   "skip_h1_title": true,
   "title_cell": "Table of Contents",
   "title_sidebar": "Contents",
   "toc_cell": false,
   "toc_position": {},
   "toc_section_display": true,
   "toc_window_display": true
  }
 },
 "nbformat": 4,
 "nbformat_minor": 2
}
