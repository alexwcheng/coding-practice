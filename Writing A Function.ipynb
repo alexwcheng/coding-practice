{
 "cells": [
  {
   "cell_type": "markdown",
   "metadata": {},
   "source": [
    "# Function Practice"
   ]
  },
  {
   "cell_type": "markdown",
   "metadata": {},
   "source": [
    "Create a function called 'numbers' that takes in an integer, n, and returns a string based on the following conditions:\n",
    "\n",
    "- If n is odd, print \"Weird\"\n",
    "- If n is even and in the inclusive range of 2 to 5, print \"A Little Weird\"\n",
    "- If n is even and in the inclusive range of 6 to 20, print \"Very Weird\"\n",
    "- If n is even and greater than 20, print \"Not Weird\""
   ]
  },
  {
   "cell_type": "code",
   "execution_count": 9,
   "metadata": {},
   "outputs": [],
   "source": [
    "def numbers(n=None):\n",
    "    if n % 2 != 0:\n",
    "        print('Weird')\n",
    "    else:\n",
    "        if n >=2 and n<=6:\n",
    "            print('A Little Weird')\n",
    "        elif n >=6 and n<=20:\n",
    "            print('Very Weird')\n",
    "        elif n > 20:\n",
    "            print('Not Weird')"
   ]
  },
  {
   "cell_type": "code",
   "execution_count": 10,
   "metadata": {},
   "outputs": [
    {
     "name": "stdout",
     "output_type": "stream",
     "text": [
      "Weird\n",
      "A Little Weird\n",
      "Very Weird\n",
      "Not Weird\n"
     ]
    }
   ],
   "source": [
    "numbers(n=1)\n",
    "numbers(n=4)\n",
    "numbers(n=8)\n",
    "numbers(n=22)"
   ]
  }
 ],
 "metadata": {
  "kernelspec": {
   "display_name": "Python 3",
   "language": "python",
   "name": "python3"
  },
  "language_info": {
   "codemirror_mode": {
    "name": "ipython",
    "version": 3
   },
   "file_extension": ".py",
   "mimetype": "text/x-python",
   "name": "python",
   "nbconvert_exporter": "python",
   "pygments_lexer": "ipython3",
   "version": "3.7.4"
  }
 },
 "nbformat": 4,
 "nbformat_minor": 2
}
