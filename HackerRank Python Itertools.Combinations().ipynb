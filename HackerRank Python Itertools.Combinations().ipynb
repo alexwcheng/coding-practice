{
 "cells": [
  {
   "cell_type": "markdown",
   "metadata": {},
   "source": [
    "# HackerRank Python Itertools.Combinations()"
   ]
  },
  {
   "cell_type": "markdown",
   "metadata": {},
   "source": [
    "itertools.combinations(iterable, r)\n",
    "- This tool returns the  length subsequences of elements from the input iterable.\n",
    "- Combinations are emitted in lexicographic sorted order. So, if the input iterable is sorted, the combination tuples will be produced in sorted order.\n",
    "\n",
    "Sample Code:\n",
    "- from itertools import combinations\n",
    "- print list(combinations('12345',2))\n",
    "- [('1', '2'), ('1', '3'), ('1', '4'), ('1', '5'), ('2', '3'), ('2', '4'), ('2', '5'), ('3', '4'), ('3', '5'), ('4', '5')]\n",
    "\n",
    "- A = [1,1,3,3,3]\n",
    "- print list(combinations(A,4))\n",
    "- [(1, 1, 3, 3), (1, 1, 3, 3), (1, 1, 3, 3), (1, 3, 3, 3), (1, 3, 3, 3)]\n",
    "\n",
    "Task:\n",
    "- You are given a string S.\n",
    "- Your task is to print all possible combinations, up to size k, of the string in lexicographic sorted order.\n",
    "\n",
    "Input Format:\n",
    "- A single line containing the string  and integer value  separated by a space.\n",
    "\n",
    "Constraints:\n",
    "0<k<=len(S)\n",
    "- The string contains only UPPERCASE characters.\n",
    "\n",
    "Output Format\n",
    "- Print the different combinations of string S on separate lines.\n",
    "\n",
    "Sample Input:\n",
    "- HACK 2\n",
    "\n",
    "Sample Output:\n",
    "\n",
    "- A\n",
    "- C\n",
    "- H\n",
    "- K\n",
    "- AC\n",
    "- AH\n",
    "- AK\n",
    "- CH\n",
    "- CK\n",
    "- HK"
   ]
  },
  {
   "cell_type": "code",
   "execution_count": 4,
   "metadata": {},
   "outputs": [],
   "source": [
    "from itertools import combinations"
   ]
  },
  {
   "cell_type": "code",
   "execution_count": 5,
   "metadata": {},
   "outputs": [
    {
     "name": "stdout",
     "output_type": "stream",
     "text": [
      "[('1', '2'), ('1', '3'), ('1', '4'), ('1', '5'), ('2', '3'), ('2', '4'), ('2', '5'), ('3', '4'), ('3', '5'), ('4', '5')]\n"
     ]
    }
   ],
   "source": [
    "print(list(combinations('12345',2)))"
   ]
  },
  {
   "cell_type": "code",
   "execution_count": 26,
   "metadata": {},
   "outputs": [
    {
     "name": "stdout",
     "output_type": "stream",
     "text": [
      "('A', 'E') ('A', 'L') ('A', 'X') ('E', 'X') ('L', 'E') ('L', 'X')\n"
     ]
    }
   ],
   "source": [
    "print(*(sorted(combinations('ALEX',2))))"
   ]
  },
  {
   "cell_type": "code",
   "execution_count": 27,
   "metadata": {},
   "outputs": [
    {
     "name": "stdout",
     "output_type": "stream",
     "text": [
      "HACK 2\n",
      "A\n",
      "C\n",
      "H\n",
      "K\n",
      "AC\n",
      "AH\n",
      "AK\n",
      "CH\n",
      "CK\n",
      "HK\n"
     ]
    }
   ],
   "source": [
    "from itertools import combinations\n",
    "\n",
    "S,k = input().split()\n",
    "\n",
    "for x in range(1, int(k)+1):\n",
    "    for y in combinations(sorted(S),x):\n",
    "        print(''.join(y))"
   ]
  }
 ],
 "metadata": {
  "kernelspec": {
   "display_name": "Python 3",
   "language": "python",
   "name": "python3"
  },
  "language_info": {
   "codemirror_mode": {
    "name": "ipython",
    "version": 3
   },
   "file_extension": ".py",
   "mimetype": "text/x-python",
   "name": "python",
   "nbconvert_exporter": "python",
   "pygments_lexer": "ipython3",
   "version": "3.7.4"
  },
  "toc": {
   "base_numbering": 1,
   "nav_menu": {},
   "number_sections": true,
   "sideBar": true,
   "skip_h1_title": true,
   "title_cell": "Table of Contents",
   "title_sidebar": "Contents",
   "toc_cell": false,
   "toc_position": {},
   "toc_section_display": true,
   "toc_window_display": true
  }
 },
 "nbformat": 4,
 "nbformat_minor": 2
}
