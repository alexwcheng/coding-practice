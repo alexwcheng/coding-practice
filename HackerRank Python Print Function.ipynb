{
 "cells": [
  {
   "cell_type": "markdown",
   "metadata": {},
   "source": [
    "# HackerRank Python Print Function"
   ]
  },
  {
   "cell_type": "markdown",
   "metadata": {},
   "source": [
    "Task:\n",
    "- Read an integer N.\n",
    "- Without using any string methods, try to print the following: 123...N\n",
    "- Note that \"...\" represents the values in between.\n",
    "\n",
    "Input Format:\n",
    "- The first line contains an integer N.\n",
    "\n",
    "Output Format:\n",
    "- Output the answer as explained in the task.\n",
    "\n",
    "Sample Input:\n",
    "- 3\n",
    "\n",
    "Sample Output:\n",
    "- 123"
   ]
  },
  {
   "cell_type": "code",
   "execution_count": 4,
   "metadata": {},
   "outputs": [
    {
     "name": "stdout",
     "output_type": "stream",
     "text": [
      "20\n",
      "[1, 2, 3, 4, 5, 6, 7, 8, 9, 10, 11, 12, 13, 14, 15, 16, 17, 18, 19]\n"
     ]
    }
   ],
   "source": [
    "# first pass\n",
    "n = int(input())\n",
    "print(list(range(1,n)))\n",
    "# but this returns a list with commas and spaces...\n",
    "# we don't want a list, and we don't want commas and spaces..."
   ]
  },
  {
   "cell_type": "code",
   "execution_count": 8,
   "metadata": {},
   "outputs": [
    {
     "name": "stdout",
     "output_type": "stream",
     "text": [
      "20\n",
      "1234567891011121314151617181920\n"
     ]
    }
   ],
   "source": [
    "# second pass\n",
    "# this is what we want\n",
    "n = int(input())\n",
    "print(*range(1,n+1),sep='')"
   ]
  }
 ],
 "metadata": {
  "kernelspec": {
   "display_name": "Python 3",
   "language": "python",
   "name": "python3"
  },
  "language_info": {
   "codemirror_mode": {
    "name": "ipython",
    "version": 3
   },
   "file_extension": ".py",
   "mimetype": "text/x-python",
   "name": "python",
   "nbconvert_exporter": "python",
   "pygments_lexer": "ipython3",
   "version": "3.7.4"
  },
  "toc": {
   "base_numbering": 1,
   "nav_menu": {},
   "number_sections": true,
   "sideBar": true,
   "skip_h1_title": false,
   "title_cell": "Table of Contents",
   "title_sidebar": "Contents",
   "toc_cell": false,
   "toc_position": {},
   "toc_section_display": true,
   "toc_window_display": false
  }
 },
 "nbformat": 4,
 "nbformat_minor": 2
}
